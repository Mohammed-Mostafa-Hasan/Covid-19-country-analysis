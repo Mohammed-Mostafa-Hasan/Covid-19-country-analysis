{
 "cells": [
  {
   "cell_type": "markdown",
   "id": "3feb672c-22e6-4dba-a541-4f4fa9b383ba",
   "metadata": {},
   "source": [
    "# task #1"
   ]
  },
  {
   "cell_type": "code",
   "execution_count": 34,
   "id": "5e53c70d-ca4b-4ee6-84f7-a78046b03fdd",
   "metadata": {},
   "outputs": [],
   "source": [
    "library(httr)\n",
    "library(xml2)\n",
    "library(rvest)"
   ]
  },
  {
   "cell_type": "code",
   "execution_count": 2,
   "id": "e7ce9a80-3c04-4a42-a2fc-7fed0140816f",
   "metadata": {},
   "outputs": [],
   "source": [
    "get_wiki_covid19_page <- function() {\n",
    "  wiki_base_url <<- \"https://en.wikipedia.org/w/index.php\"\n",
    "\n",
    "  body <- list(title =\"Template:COVID-19_testing_by_country\")\n",
    "  response <<- GET(wiki_base_url,query=body)  \n",
    "  return(response)\n",
    "}"
   ]
  },
  {
   "cell_type": "code",
   "execution_count": 3,
   "id": "7b46cfee-0a93-4b84-bdf5-b0964314dbb1",
   "metadata": {},
   "outputs": [
    {
     "data": {
      "text/plain": [
       "Response [https://en.wikipedia.org/w/index.php?title=Template%3ACOVID-19_testing_by_country]\n",
       "  Date: 2022-06-13 12:06\n",
       "  Status: 200\n",
       "  Content-Type: text/html; charset=UTF-8\n",
       "  Size: 413 kB\n",
       "<!DOCTYPE html>\n",
       "<html class=\"client-nojs\" lang=\"en\" dir=\"ltr\">\n",
       "<head>\n",
       "<meta charset=\"UTF-8\"/>\n",
       "<title>Template:COVID-19 testing by country - Wikipedia</title>\n",
       "<script>document.documentElement.className=\"client-js\";RLCONF={\"wgBreakFrames...\n",
       "\"CS1 German-language sources (de)\",\"CS1 Azerbaijani-language sources (az)\",\"C...\n",
       "\"CS1 uses Japanese-language script (ja)\",\"CS1 Japanese-language sources (ja)\"...\n",
       "\"COVID-19 pandemic templates\"],\"wgPageContentLanguage\":\"en\",\"wgPageContentMod...\n",
       "\"Q87325019\",\"GEHomepageSuggestedEditsEnableTopics\":true,\"wgGETopicsMatchModeE...\n",
       "..."
      ]
     },
     "metadata": {},
     "output_type": "display_data"
    }
   ],
   "source": [
    "get_wiki_covid19_page ()"
   ]
  },
  {
   "cell_type": "markdown",
   "id": "0281f018-c7fa-4d9c-955b-46f0c3c91d01",
   "metadata": {},
   "source": [
    "# task #2"
   ]
  },
  {
   "cell_type": "code",
   "execution_count": 4,
   "id": "2f011f72-34f6-4255-9213-7c4c8349b0c2",
   "metadata": {},
   "outputs": [
    {
     "data": {
      "text/plain": [
       "{xml_document}\n",
       "<html class=\"client-nojs\" lang=\"en\" dir=\"ltr\">\n",
       "[1] <head>\\n<meta http-equiv=\"Content-Type\" content=\"text/html; charset=UTF-8 ...\n",
       "[2] <body class=\"mediawiki ltr sitedir-ltr mw-hide-empty-elt ns-10 ns-subject ..."
      ]
     },
     "metadata": {},
     "output_type": "display_data"
    }
   ],
   "source": [
    "root_node <- read_html(get_wiki_covid19_page())\n",
    "root_node"
   ]
  },
  {
   "cell_type": "code",
   "execution_count": 5,
   "id": "65386cab-5368-4595-9671-d24803ce8941",
   "metadata": {},
   "outputs": [],
   "source": [
    "url <- \"https://en.wikipedia.org/w/index.php?title=Template:COVID-19_testing_by_country\"\n",
    "download.file (url, destfile = 'covid_19.html')"
   ]
  },
  {
   "cell_type": "code",
   "execution_count": 6,
   "id": "7b3f3db6-7dfa-4737-b5ae-4bc111cb70b4",
   "metadata": {},
   "outputs": [],
   "source": [
    "table_node <-html_node(root_node,\"table\") "
   ]
  },
  {
   "cell_type": "code",
   "execution_count": 7,
   "id": "b468927a-2d7c-4ff9-9d08-e25b1a309d56",
   "metadata": {},
   "outputs": [
    {
     "data": {
      "text/plain": [
       "{xml_node}\n",
       "<table class=\"wikitable plainrowheaders sortable collapsible autocollapse\">\n",
       "[1] <caption>\\n<style data-mw-deduplicate=\"TemplateStyles:r1063604349\">.mw-pa ...\n",
       "[2] <tbody>\\n<tr>\\n<th>Country or region\\n</th>\\n<th>Date<sup id=\"cite_ref-1\" ..."
      ]
     },
     "metadata": {},
     "output_type": "display_data"
    }
   ],
   "source": [
    "table_node"
   ]
  },
  {
   "cell_type": "code",
   "execution_count": 8,
   "id": "f4f29ed6-ab9d-4083-8745-0e81f8ceb910",
   "metadata": {},
   "outputs": [],
   "source": [
    "dataFrame_table <- html_table(table_node)"
   ]
  },
  {
   "cell_type": "code",
   "execution_count": 9,
   "id": "7b8caed1-8b0e-4075-aa08-e68eaede76dc",
   "metadata": {},
   "outputs": [
    {
     "data": {
      "text/html": [
       "<table>\n",
       "<thead><tr><th scope=col>Country or region</th><th scope=col>Date[a]</th><th scope=col>Tested</th><th scope=col>Units[b]</th><th scope=col>Confirmed(cases)</th><th scope=col>Confirmed /tested,%</th><th scope=col>Tested /population,%</th><th scope=col>Confirmed /population,%</th><th scope=col>Ref.</th></tr></thead>\n",
       "<tbody>\n",
       "\t<tr><td>Afghanistan        </td><td>17 Dec 2020        </td><td>154,767            </td><td>samples            </td><td>49,621             </td><td>32.1               </td><td>0.40               </td><td>0.13               </td><td>[1]                </td></tr>\n",
       "\t<tr><td>Albania            </td><td>18 Feb 2021        </td><td>428,654            </td><td>samples            </td><td>96,838             </td><td>22.6               </td><td>15.0               </td><td>3.4                </td><td>[2]                </td></tr>\n",
       "\t<tr><td>Algeria            </td><td>2 Nov 2020         </td><td>230,553            </td><td>samples            </td><td>58,574             </td><td>25.4               </td><td>0.53               </td><td>0.13               </td><td>[3][4]             </td></tr>\n",
       "\t<tr><td>Andorra            </td><td>23 Feb 2022        </td><td>300,307            </td><td>samples            </td><td>37,958             </td><td>12.6               </td><td>387                </td><td>49.0               </td><td>[5]                </td></tr>\n",
       "\t<tr><td>Angola             </td><td>2 Feb 2021         </td><td>399,228            </td><td>samples            </td><td>20,981             </td><td>5.3                </td><td>1.3                </td><td>0.067              </td><td>[6]                </td></tr>\n",
       "\t<tr><td>Antigua and Barbuda</td><td>6 Mar 2021         </td><td>15,268             </td><td>samples            </td><td>832                </td><td>5.4                </td><td>15.9               </td><td>0.86               </td><td>[7]                </td></tr>\n",
       "</tbody>\n",
       "</table>\n"
      ],
      "text/latex": [
       "\\begin{tabular}{r|lllllllll}\n",
       " Country or region & Date{[}a{]} & Tested & Units{[}b{]} & Confirmed(cases) & Confirmed /tested,\\% & Tested /population,\\% & Confirmed /population,\\% & Ref.\\\\\n",
       "\\hline\n",
       "\t Afghanistan         & 17 Dec 2020         & 154,767             & samples             & 49,621              & 32.1                & 0.40                & 0.13                & {[}1{]}            \\\\\n",
       "\t Albania             & 18 Feb 2021         & 428,654             & samples             & 96,838              & 22.6                & 15.0                & 3.4                 & {[}2{]}            \\\\\n",
       "\t Algeria             & 2 Nov 2020          & 230,553             & samples             & 58,574              & 25.4                & 0.53                & 0.13                & {[}3{]}{[}4{]}     \\\\\n",
       "\t Andorra             & 23 Feb 2022         & 300,307             & samples             & 37,958              & 12.6                & 387                 & 49.0                & {[}5{]}            \\\\\n",
       "\t Angola              & 2 Feb 2021          & 399,228             & samples             & 20,981              & 5.3                 & 1.3                 & 0.067               & {[}6{]}            \\\\\n",
       "\t Antigua and Barbuda & 6 Mar 2021          & 15,268              & samples             & 832                 & 5.4                 & 15.9                & 0.86                & {[}7{]}            \\\\\n",
       "\\end{tabular}\n"
      ],
      "text/markdown": [
       "\n",
       "| Country or region | Date[a] | Tested | Units[b] | Confirmed(cases) | Confirmed /tested,% | Tested /population,% | Confirmed /population,% | Ref. |\n",
       "|---|---|---|---|---|---|---|---|---|\n",
       "| Afghanistan         | 17 Dec 2020         | 154,767             | samples             | 49,621              | 32.1                | 0.40                | 0.13                | [1]                 |\n",
       "| Albania             | 18 Feb 2021         | 428,654             | samples             | 96,838              | 22.6                | 15.0                | 3.4                 | [2]                 |\n",
       "| Algeria             | 2 Nov 2020          | 230,553             | samples             | 58,574              | 25.4                | 0.53                | 0.13                | [3][4]              |\n",
       "| Andorra             | 23 Feb 2022         | 300,307             | samples             | 37,958              | 12.6                | 387                 | 49.0                | [5]                 |\n",
       "| Angola              | 2 Feb 2021          | 399,228             | samples             | 20,981              | 5.3                 | 1.3                 | 0.067               | [6]                 |\n",
       "| Antigua and Barbuda | 6 Mar 2021          | 15,268              | samples             | 832                 | 5.4                 | 15.9                | 0.86                | [7]                 |\n",
       "\n"
      ],
      "text/plain": [
       "  Country or region   Date[a]     Tested  Units[b] Confirmed(cases)\n",
       "1 Afghanistan         17 Dec 2020 154,767 samples  49,621          \n",
       "2 Albania             18 Feb 2021 428,654 samples  96,838          \n",
       "3 Algeria             2 Nov 2020  230,553 samples  58,574          \n",
       "4 Andorra             23 Feb 2022 300,307 samples  37,958          \n",
       "5 Angola              2 Feb 2021  399,228 samples  20,981          \n",
       "6 Antigua and Barbuda 6 Mar 2021  15,268  samples  832             \n",
       "  Confirmed /tested,% Tested /population,% Confirmed /population,% Ref.  \n",
       "1 32.1                0.40                 0.13                    [1]   \n",
       "2 22.6                15.0                 3.4                     [2]   \n",
       "3 25.4                0.53                 0.13                    [3][4]\n",
       "4 12.6                387                  49.0                    [5]   \n",
       "5 5.3                 1.3                  0.067                   [6]   \n",
       "6 5.4                 15.9                 0.86                    [7]   "
      ]
     },
     "metadata": {},
     "output_type": "display_data"
    }
   ],
   "source": [
    "head(dataFrame_table) "
   ]
  },
  {
   "cell_type": "markdown",
   "id": "9eca71d4-c8af-4efd-91f5-a2735eb07f46",
   "metadata": {},
   "source": [
    "# task#3"
   ]
  },
  {
   "cell_type": "code",
   "execution_count": 10,
   "id": "bf53bb9e-3434-432c-9ff0-d59521c0f3df",
   "metadata": {},
   "outputs": [
    {
     "data": {
      "text/plain": [
       " Country or region    Date[a]             Tested            Units[b]        \n",
       " Length:173         Length:173         Length:173         Length:173        \n",
       " Class :character   Class :character   Class :character   Class :character  \n",
       " Mode  :character   Mode  :character   Mode  :character   Mode  :character  \n",
       " Confirmed(cases)   Confirmed /tested,% Tested /population,%\n",
       " Length:173         Length:173          Length:173          \n",
       " Class :character   Class :character    Class :character    \n",
       " Mode  :character   Mode  :character    Mode  :character    \n",
       " Confirmed /population,%     Ref.          \n",
       " Length:173              Length:173        \n",
       " Class :character        Class :character  \n",
       " Mode  :character        Mode  :character  "
      ]
     },
     "metadata": {},
     "output_type": "display_data"
    }
   ],
   "source": [
    "summary(dataFrame_table)"
   ]
  },
  {
   "cell_type": "code",
   "execution_count": 11,
   "id": "b77b20cd-6f42-4411-8889-522811744d7f",
   "metadata": {},
   "outputs": [
    {
     "data": {
      "text/html": [
       "<ol class=list-inline>\n",
       "\t<li>173</li>\n",
       "\t<li>9</li>\n",
       "</ol>\n"
      ],
      "text/latex": [
       "\\begin{enumerate*}\n",
       "\\item 173\n",
       "\\item 9\n",
       "\\end{enumerate*}\n"
      ],
      "text/markdown": [
       "1. 173\n",
       "2. 9\n",
       "\n",
       "\n"
      ],
      "text/plain": [
       "[1] 173   9"
      ]
     },
     "metadata": {},
     "output_type": "display_data"
    }
   ],
   "source": [
    "dim(dataFrame_table)"
   ]
  },
  {
   "cell_type": "code",
   "execution_count": 12,
   "id": "56e38f0a-aebf-4df0-8574-fe0a217b486a",
   "metadata": {},
   "outputs": [],
   "source": [
    "preprocess_covid_data_frame <- function(data_frame) {\n",
    "    \n",
    "    shape <- dim(data_frame)\n",
    "\n",
    "    # Remove the World row\n",
    "    data_frame<-data_frame[!(data_frame$`Country or region`==\"World\"),]\n",
    "    # Remove the last row\n",
    "    data_frame <- data_frame[1:172, ]\n",
    "    \n",
    "    # We dont need the Units and Ref columns, so can be removed\n",
    "    data_frame[\"Ref.\"] <- NULL\n",
    "    data_frame[\"Units[b]\"] <- NULL\n",
    "    \n",
    "    # Renaming the columns\n",
    "    names(data_frame) <- c(\"country\", \"date\", \"tested\", \"confirmed\", \"confirmed.tested.ratio\", \"tested.population.ratio\", \"confirmed.population.ratio\")\n",
    "    \n",
    "    # Convert column data types\n",
    "    data_frame$country <- as.factor(data_frame$country)\n",
    "    data_frame$date <- as.factor(data_frame$date)\n",
    "    data_frame$tested <- as.numeric(gsub(\",\",\"\",data_frame$tested))\n",
    "    data_frame$confirmed <- as.numeric(gsub(\",\",\"\",data_frame$confirmed))\n",
    "    data_frame$'confirmed.tested.ratio' <- as.numeric(gsub(\",\",\"\",data_frame$`confirmed.tested.ratio`))\n",
    "    data_frame$'tested.population.ratio' <- as.numeric(gsub(\",\",\"\",data_frame$`tested.population.ratio`))\n",
    "    data_frame$'confirmed.population.ratio' <- as.numeric(gsub(\",\",\"\",data_frame$`confirmed.population.ratio`))\n",
    "    \n",
    "    return(data_frame)\n",
    "}"
   ]
  },
  {
   "cell_type": "code",
   "execution_count": 13,
   "id": "a9c477b7-11f3-4268-a7e9-69ad4db2a057",
   "metadata": {},
   "outputs": [
    {
     "data": {
      "text/html": [
       "<table>\n",
       "<thead><tr><th scope=col>country</th><th scope=col>date</th><th scope=col>tested</th><th scope=col>confirmed</th><th scope=col>confirmed.tested.ratio</th><th scope=col>tested.population.ratio</th><th scope=col>confirmed.population.ratio</th></tr></thead>\n",
       "<tbody>\n",
       "\t<tr><td>Afghanistan        </td><td>17 Dec 2020        </td><td>154767             </td><td>49621              </td><td>32.1               </td><td>  0.40             </td><td> 0.130             </td></tr>\n",
       "\t<tr><td>Albania            </td><td>18 Feb 2021        </td><td>428654             </td><td>96838              </td><td>22.6               </td><td> 15.00             </td><td> 3.400             </td></tr>\n",
       "\t<tr><td>Algeria            </td><td>2 Nov 2020         </td><td>230553             </td><td>58574              </td><td>25.4               </td><td>  0.53             </td><td> 0.130             </td></tr>\n",
       "\t<tr><td>Andorra            </td><td>23 Feb 2022        </td><td>300307             </td><td>37958              </td><td>12.6               </td><td>387.00             </td><td>49.000             </td></tr>\n",
       "\t<tr><td>Angola             </td><td>2 Feb 2021         </td><td>399228             </td><td>20981              </td><td> 5.3               </td><td>  1.30             </td><td> 0.067             </td></tr>\n",
       "\t<tr><td>Antigua and Barbuda</td><td>6 Mar 2021         </td><td> 15268             </td><td>  832              </td><td> 5.4               </td><td> 15.90             </td><td> 0.860             </td></tr>\n",
       "</tbody>\n",
       "</table>\n"
      ],
      "text/latex": [
       "\\begin{tabular}{r|lllllll}\n",
       " country & date & tested & confirmed & confirmed.tested.ratio & tested.population.ratio & confirmed.population.ratio\\\\\n",
       "\\hline\n",
       "\t Afghanistan         & 17 Dec 2020         & 154767              & 49621               & 32.1                &   0.40              &  0.130             \\\\\n",
       "\t Albania             & 18 Feb 2021         & 428654              & 96838               & 22.6                &  15.00              &  3.400             \\\\\n",
       "\t Algeria             & 2 Nov 2020          & 230553              & 58574               & 25.4                &   0.53              &  0.130             \\\\\n",
       "\t Andorra             & 23 Feb 2022         & 300307              & 37958               & 12.6                & 387.00              & 49.000             \\\\\n",
       "\t Angola              & 2 Feb 2021          & 399228              & 20981               &  5.3                &   1.30              &  0.067             \\\\\n",
       "\t Antigua and Barbuda & 6 Mar 2021          &  15268              &   832               &  5.4                &  15.90              &  0.860             \\\\\n",
       "\\end{tabular}\n"
      ],
      "text/markdown": [
       "\n",
       "| country | date | tested | confirmed | confirmed.tested.ratio | tested.population.ratio | confirmed.population.ratio |\n",
       "|---|---|---|---|---|---|---|\n",
       "| Afghanistan         | 17 Dec 2020         | 154767              | 49621               | 32.1                |   0.40              |  0.130              |\n",
       "| Albania             | 18 Feb 2021         | 428654              | 96838               | 22.6                |  15.00              |  3.400              |\n",
       "| Algeria             | 2 Nov 2020          | 230553              | 58574               | 25.4                |   0.53              |  0.130              |\n",
       "| Andorra             | 23 Feb 2022         | 300307              | 37958               | 12.6                | 387.00              | 49.000              |\n",
       "| Angola              | 2 Feb 2021          | 399228              | 20981               |  5.3                |   1.30              |  0.067              |\n",
       "| Antigua and Barbuda | 6 Mar 2021          |  15268              |   832               |  5.4                |  15.90              |  0.860              |\n",
       "\n"
      ],
      "text/plain": [
       "  country             date        tested confirmed confirmed.tested.ratio\n",
       "1 Afghanistan         17 Dec 2020 154767 49621     32.1                  \n",
       "2 Albania             18 Feb 2021 428654 96838     22.6                  \n",
       "3 Algeria             2 Nov 2020  230553 58574     25.4                  \n",
       "4 Andorra             23 Feb 2022 300307 37958     12.6                  \n",
       "5 Angola              2 Feb 2021  399228 20981      5.3                  \n",
       "6 Antigua and Barbuda 6 Mar 2021   15268   832      5.4                  \n",
       "  tested.population.ratio confirmed.population.ratio\n",
       "1   0.40                   0.130                    \n",
       "2  15.00                   3.400                    \n",
       "3   0.53                   0.130                    \n",
       "4 387.00                  49.000                    \n",
       "5   1.30                   0.067                    \n",
       "6  15.90                   0.860                    "
      ]
     },
     "metadata": {},
     "output_type": "display_data"
    }
   ],
   "source": [
    "cleaned_data <- preprocess_covid_data_frame(dataFrame_table)\n",
    "head(cleaned_data)"
   ]
  },
  {
   "cell_type": "code",
   "execution_count": 14,
   "id": "6a6fa068-489f-4a9b-b301-c3b2e210c7fb",
   "metadata": {},
   "outputs": [
    {
     "data": {
      "text/plain": [
       "                country             date         tested         \n",
       " Afghanistan        :  1   7 Jun 2022 : 11   Min.   :     3880  \n",
       " Albania            :  1   6 Jun 2022 :  9   1st Qu.:   512037  \n",
       " Algeria            :  1   9 Jun 2022 :  8   Median :  3029859  \n",
       " Andorra            :  1   10 Jun 2022:  4   Mean   : 26007778  \n",
       " Angola             :  1   1 Mar 2021 :  3   3rd Qu.: 11751774  \n",
       " Antigua and Barbuda:  1   12 Jun 2022:  3   Max.   :553621766  \n",
       " (Other)            :166   (Other)    :134                      \n",
       "   confirmed        confirmed.tested.ratio tested.population.ratio\n",
       " Min.   :       0   Min.   : 0.00          Min.   :   0.0065      \n",
       " 1st Qu.:   37000   1st Qu.: 5.00          1st Qu.:   8.5000      \n",
       " Median :  281196   Median : 9.70          Median :  44.1500      \n",
       " Mean   : 1955123   Mean   :10.95          Mean   : 163.7438      \n",
       " 3rd Qu.: 1155312   3rd Qu.:15.07          3rd Qu.: 141.0000      \n",
       " Max.   :35940893   Max.   :42.80          Max.   :2871.0000      \n",
       "                                                                  \n",
       " confirmed.population.ratio\n",
       " Min.   : 0.000            \n",
       " 1st Qu.: 0.425            \n",
       " Median : 5.850            \n",
       " Mean   :11.047            \n",
       " 3rd Qu.:14.525            \n",
       " Max.   :65.700            \n",
       "                           "
      ]
     },
     "metadata": {},
     "output_type": "display_data"
    }
   ],
   "source": [
    "summary(cleaned_data)"
   ]
  },
  {
   "cell_type": "code",
   "execution_count": 15,
   "id": "990e53c2-52c5-4943-9c45-de306a99d3b9",
   "metadata": {},
   "outputs": [],
   "source": [
    "\n",
    "filePath <- \"/home/mohammed/Documents/cv/covid_19.csv\"\n",
    "dataFile <- write.csv(cleaned_data,file =filePath,row.names = FALSE)"
   ]
  },
  {
   "cell_type": "markdown",
   "id": "2ef0e65f-cae7-4147-9730-e30faddc5944",
   "metadata": {},
   "source": [
    "# task #4"
   ]
  },
  {
   "cell_type": "code",
   "execution_count": 17,
   "id": "8919bab1-89cc-4b08-95bc-00820c0d6a72",
   "metadata": {},
   "outputs": [],
   "source": [
    "covid_data_frame_csv <- read.csv(\"covid_19.csv\", header=TRUE, sep=\",\")"
   ]
  },
  {
   "cell_type": "code",
   "execution_count": 18,
   "id": "65dfd4a5-60fe-47d6-a1b7-1b9f9fde4139",
   "metadata": {},
   "outputs": [
    {
     "data": {
      "text/html": [
       "<table>\n",
       "<thead><tr><th></th><th scope=col>country</th><th scope=col>confirmed</th></tr></thead>\n",
       "<tbody>\n",
       "\t<tr><th scope=row>5</th><td>Angola             </td><td>  20981            </td></tr>\n",
       "\t<tr><th scope=row>6</th><td>Antigua and Barbuda</td><td>    832            </td></tr>\n",
       "\t<tr><th scope=row>7</th><td>Argentina          </td><td>9060495            </td></tr>\n",
       "\t<tr><th scope=row>8</th><td>Armenia            </td><td> 422963            </td></tr>\n",
       "\t<tr><th scope=row>9</th><td>Australia          </td><td>7568100            </td></tr>\n",
       "\t<tr><th scope=row>10</th><td>Austria            </td><td>4327840            </td></tr>\n",
       "</tbody>\n",
       "</table>\n"
      ],
      "text/latex": [
       "\\begin{tabular}{r|ll}\n",
       "  & country & confirmed\\\\\n",
       "\\hline\n",
       "\t5 & Angola              &   20981            \\\\\n",
       "\t6 & Antigua and Barbuda &     832            \\\\\n",
       "\t7 & Argentina           & 9060495            \\\\\n",
       "\t8 & Armenia             &  422963            \\\\\n",
       "\t9 & Australia           & 7568100            \\\\\n",
       "\t10 & Austria             & 4327840            \\\\\n",
       "\\end{tabular}\n"
      ],
      "text/markdown": [
       "\n",
       "| <!--/--> | country | confirmed |\n",
       "|---|---|---|\n",
       "| 5 | Angola              |   20981             |\n",
       "| 6 | Antigua and Barbuda |     832             |\n",
       "| 7 | Argentina           | 9060495             |\n",
       "| 8 | Armenia             |  422963             |\n",
       "| 9 | Australia           | 7568100             |\n",
       "| 10 | Austria             | 4327840             |\n",
       "\n"
      ],
      "text/plain": [
       "   country             confirmed\n",
       "5  Angola                20981  \n",
       "6  Antigua and Barbuda     832  \n",
       "7  Argentina           9060495  \n",
       "8  Armenia              422963  \n",
       "9  Australia           7568100  \n",
       "10 Austria             4327840  "
      ]
     },
     "metadata": {},
     "output_type": "display_data"
    }
   ],
   "source": [
    "covid_data_frame_csv[5:10,c(\"country\", \"confirmed\")]"
   ]
  },
  {
   "cell_type": "markdown",
   "id": "b9f34843-ae5f-464b-a7fd-c338ec80116b",
   "metadata": {},
   "source": [
    "# task #5"
   ]
  },
  {
   "cell_type": "code",
   "execution_count": 19,
   "id": "234faf5a-9720-4efd-884d-1f9a821c8e3a",
   "metadata": {},
   "outputs": [
    {
     "data": {
      "text/html": [
       "0.0751745424616987"
      ],
      "text/latex": [
       "0.0751745424616987"
      ],
      "text/markdown": [
       "0.0751745424616987"
      ],
      "text/plain": [
       "[1] 0.07517454"
      ]
     },
     "metadata": {},
     "output_type": "display_data"
    }
   ],
   "source": [
    "# Get the total confirmed cases worldwide\n",
    "total_confirmed <- sum(covid_data_frame_csv[\"confirmed\"])\n",
    "# Get the total tested cases worldwide\n",
    "total_tested <- sum(covid_data_frame_csv[\"tested\"])\n",
    "# Get the positive ratio (confirmed / tested)\n",
    "positive_ratio_confirmed_tested <- total_confirmed/total_tested\n",
    "positive_ratio_confirmed_tested"
   ]
  },
  {
   "cell_type": "markdown",
   "id": "0e5ef633-32b7-4050-947d-41101d465cac",
   "metadata": {},
   "source": [
    "# task #6"
   ]
  },
  {
   "cell_type": "code",
   "execution_count": 20,
   "id": "87005621-c9c6-4253-97e1-e49461d6600d",
   "metadata": {},
   "outputs": [
    {
     "data": {
      "text/html": [
       "'factor'"
      ],
      "text/latex": [
       "'factor'"
      ],
      "text/markdown": [
       "'factor'"
      ],
      "text/plain": [
       "[1] \"factor\""
      ]
     },
     "metadata": {},
     "output_type": "display_data"
    },
    {
     "data": {
      "text/html": [
       "'character'"
      ],
      "text/latex": [
       "'character'"
      ],
      "text/markdown": [
       "'character'"
      ],
      "text/plain": [
       "[1] \"character\""
      ]
     },
     "metadata": {},
     "output_type": "display_data"
    },
    {
     "data": {
      "text/html": [
       "<ol class=list-inline>\n",
       "\t<li>'Zimbabwe'</li>\n",
       "\t<li>'Zambia'</li>\n",
       "\t<li>'Vietnam'</li>\n",
       "\t<li>'Venezuela'</li>\n",
       "\t<li>'Uzbekistan'</li>\n",
       "\t<li>'Uruguay'</li>\n",
       "</ol>\n"
      ],
      "text/latex": [
       "\\begin{enumerate*}\n",
       "\\item 'Zimbabwe'\n",
       "\\item 'Zambia'\n",
       "\\item 'Vietnam'\n",
       "\\item 'Venezuela'\n",
       "\\item 'Uzbekistan'\n",
       "\\item 'Uruguay'\n",
       "\\end{enumerate*}\n"
      ],
      "text/markdown": [
       "1. 'Zimbabwe'\n",
       "2. 'Zambia'\n",
       "3. 'Vietnam'\n",
       "4. 'Venezuela'\n",
       "5. 'Uzbekistan'\n",
       "6. 'Uruguay'\n",
       "\n",
       "\n"
      ],
      "text/plain": [
       "[1] \"Zimbabwe\"   \"Zambia\"     \"Vietnam\"    \"Venezuela\"  \"Uzbekistan\"\n",
       "[6] \"Uruguay\"   "
      ]
     },
     "metadata": {},
     "output_type": "display_data"
    }
   ],
   "source": [
    "country_column <- (covid_data_frame_csv[,1])\n",
    "# Check its class (should be Factor)\n",
    "class(country_column)\n",
    "# Conver the country column into character so that you can easily sort them\n",
    "country_column <- as.character(country_column)\n",
    "class(country_column)\n",
    "# Sort the countries AtoZ\n",
    "country_column_dec <- sort(country_column, decreasing =FALSE)\n",
    "# Sort the countries ZtoA\n",
    "country_column_inc <- sort(country_column, decreasing =TRUE)\n",
    "# Print the sorted ZtoA list\n",
    "head(country_column_inc)"
   ]
  },
  {
   "cell_type": "markdown",
   "id": "80b8680c-1dc0-48cf-9664-3b16544a1b78",
   "metadata": {},
   "source": [
    "# task #7"
   ]
  },
  {
   "cell_type": "code",
   "execution_count": 21,
   "id": "7db794bb-78d6-4870-88ad-338797c7ca59",
   "metadata": {},
   "outputs": [],
   "source": [
    "matches <- regexpr(\"United.+\",country_column)\n",
    "United_extention <- regmatches(country_column,matches)"
   ]
  },
  {
   "cell_type": "code",
   "execution_count": 22,
   "id": "26484a1f-8660-4f5e-abcf-8762591ce7ea",
   "metadata": {},
   "outputs": [
    {
     "data": {
      "text/html": [
       "<ol class=list-inline>\n",
       "\t<li>'United Arab Emirates'</li>\n",
       "\t<li>'United Kingdom'</li>\n",
       "\t<li>'United States'</li>\n",
       "</ol>\n"
      ],
      "text/latex": [
       "\\begin{enumerate*}\n",
       "\\item 'United Arab Emirates'\n",
       "\\item 'United Kingdom'\n",
       "\\item 'United States'\n",
       "\\end{enumerate*}\n"
      ],
      "text/markdown": [
       "1. 'United Arab Emirates'\n",
       "2. 'United Kingdom'\n",
       "3. 'United States'\n",
       "\n",
       "\n"
      ],
      "text/plain": [
       "[1] \"United Arab Emirates\" \"United Kingdom\"       \"United States\"       "
      ]
     },
     "metadata": {},
     "output_type": "display_data"
    }
   ],
   "source": [
    "United_extention"
   ]
  },
  {
   "cell_type": "markdown",
   "id": "1ae026a9-d733-4cea-9476-14e094512c96",
   "metadata": {},
   "source": [
    "# task #8"
   ]
  },
  {
   "cell_type": "code",
   "execution_count": 23,
   "id": "83d84d86-d4cb-4618-92cd-4e9d0997cf17",
   "metadata": {},
   "outputs": [
    {
     "data": {
      "text/html": [
       "165"
      ],
      "text/latex": [
       "165"
      ],
      "text/markdown": [
       "165"
      ],
      "text/plain": [
       "[1] 165"
      ]
     },
     "metadata": {},
     "output_type": "display_data"
    },
    {
     "data": {
      "text/html": [
       "166"
      ],
      "text/latex": [
       "166"
      ],
      "text/markdown": [
       "166"
      ],
      "text/plain": [
       "[1] 166"
      ]
     },
     "metadata": {},
     "output_type": "display_data"
    }
   ],
   "source": [
    "##task #8\n",
    "#find the index of two country {row}\n",
    "which(covid_data_frame_csv[\"country\"]==\"United Kingdom\")\n",
    "which(covid_data_frame_csv[\"country\"]==\"United States\")"
   ]
  },
  {
   "cell_type": "code",
   "execution_count": 24,
   "id": "c464c9b6-da69-4ea8-a389-8616f2bd3e3b",
   "metadata": {},
   "outputs": [
    {
     "data": {
      "text/html": [
       "<table>\n",
       "<thead><tr><th></th><th scope=col>country</th><th scope=col>date</th><th scope=col>tested</th><th scope=col>confirmed</th><th scope=col>confirmed.tested.ratio</th><th scope=col>tested.population.ratio</th><th scope=col>confirmed.population.ratio</th></tr></thead>\n",
       "<tbody>\n",
       "\t<tr><th scope=row>165</th><td>United Kingdom</td><td>19 May 2022   </td><td>522526476     </td><td>22232377      </td><td>4.3           </td><td>774           </td><td>32.9          </td></tr>\n",
       "\t<tr><th scope=row>166</th><td>United States </td><td>9 Aug 2021    </td><td>512152348     </td><td>35940893      </td><td>7.0           </td><td>155           </td><td>10.9          </td></tr>\n",
       "</tbody>\n",
       "</table>\n"
      ],
      "text/latex": [
       "\\begin{tabular}{r|lllllll}\n",
       "  & country & date & tested & confirmed & confirmed.tested.ratio & tested.population.ratio & confirmed.population.ratio\\\\\n",
       "\\hline\n",
       "\t165 & United Kingdom & 19 May 2022    & 522526476      & 22232377       & 4.3            & 774            & 32.9          \\\\\n",
       "\t166 & United States  & 9 Aug 2021     & 512152348      & 35940893       & 7.0            & 155            & 10.9          \\\\\n",
       "\\end{tabular}\n"
      ],
      "text/markdown": [
       "\n",
       "| <!--/--> | country | date | tested | confirmed | confirmed.tested.ratio | tested.population.ratio | confirmed.population.ratio |\n",
       "|---|---|---|---|---|---|---|---|\n",
       "| 165 | United Kingdom | 19 May 2022    | 522526476      | 22232377       | 4.3            | 774            | 32.9           |\n",
       "| 166 | United States  | 9 Aug 2021     | 512152348      | 35940893       | 7.0            | 155            | 10.9           |\n",
       "\n"
      ],
      "text/plain": [
       "    country        date        tested    confirmed confirmed.tested.ratio\n",
       "165 United Kingdom 19 May 2022 522526476 22232377  4.3                   \n",
       "166 United States  9 Aug 2021  512152348 35940893  7.0                   \n",
       "    tested.population.ratio confirmed.population.ratio\n",
       "165 774                     32.9                      \n",
       "166 155                     10.9                      "
      ]
     },
     "metadata": {},
     "output_type": "display_data"
    }
   ],
   "source": [
    "covid_data_frame_csv[165:166,]"
   ]
  },
  {
   "cell_type": "markdown",
   "id": "bb423702-2277-439e-b0ed-147eeb7d6048",
   "metadata": {},
   "source": [
    "# task #9"
   ]
  },
  {
   "cell_type": "code",
   "execution_count": 25,
   "id": "bf711579-ecec-488c-b896-d609aad36a21",
   "metadata": {},
   "outputs": [],
   "source": [
    "uni_kng_index<-which(covid_data_frame_csv[\"country\"]==\"United Kingdom\")\n",
    "uni_state_index<-which(covid_data_frame_csv[\"country\"]==\"United States\")\n",
    "col <-grep(\"confirmed.population.ratio\", colnames(covid_data_frame_csv))"
   ]
  },
  {
   "cell_type": "code",
   "execution_count": 26,
   "id": "4e9df024-6f7c-4f0d-b51a-cc5e1a03d026",
   "metadata": {},
   "outputs": [
    {
     "name": "stdout",
     "output_type": "stream",
     "text": [
      "[1] \"United Kingdom has a high confirmed.population.ratio\"\n"
     ]
    }
   ],
   "source": [
    "\n",
    "if (covid_data_frame_csv[uni_kng_index,col]>covid_data_frame_csv[uni_state_index,col]) \n",
    "{\n",
    "   print(\"United Kingdom has a high confirmed.population.ratio\")\n",
    "} else {\n",
    "   print(\"United states has a high confirmed.population.ratio\")\n",
    "}\n"
   ]
  },
  {
   "cell_type": "markdown",
   "id": "596a20b0-dc3e-4197-9351-a6a7edce5194",
   "metadata": {},
   "source": [
    "# task #10"
   ]
  },
  {
   "cell_type": "code",
   "execution_count": 27,
   "id": "94d0705e-759d-48d2-86b6-9a8845e6b219",
   "metadata": {},
   "outputs": [],
   "source": [
    "# change the name of the covid_data_frame_csv to DataFrame\n",
    "data <- cbind(covid_data_frame_csv)"
   ]
  },
  {
   "cell_type": "code",
   "execution_count": 80,
   "id": "a88e00a9-c8b4-4746-b29d-4903a306154f",
   "metadata": {},
   "outputs": [
    {
     "data": {
      "text/html": [
       "<table>\n",
       "<thead><tr><th scope=col>n</th></tr></thead>\n",
       "<tbody>\n",
       "\t<tr><td>53</td></tr>\n",
       "</tbody>\n",
       "</table>\n"
      ],
      "text/latex": [
       "\\begin{tabular}{r|l}\n",
       " n\\\\\n",
       "\\hline\n",
       "\t 53\\\\\n",
       "\\end{tabular}\n"
      ],
      "text/markdown": [
       "\n",
       "| n |\n",
       "|---|\n",
       "| 53 |\n",
       "\n"
      ],
      "text/plain": [
       "  n \n",
       "1 53"
      ]
     },
     "metadata": {},
     "output_type": "display_data"
    },
    {
     "data": {
      "text/html": [
       "<table>\n",
       "<thead><tr><th scope=col>country</th></tr></thead>\n",
       "<tbody>\n",
       "\t<tr><td>Afghanistan        </td></tr>\n",
       "\t<tr><td>Algeria            </td></tr>\n",
       "\t<tr><td>Angola             </td></tr>\n",
       "\t<tr><td>Antigua and Barbuda</td></tr>\n",
       "\t<tr><td>Bangladesh         </td></tr>\n",
       "\t<tr><td>Benin              </td></tr>\n",
       "\t<tr><td>Brunei             </td></tr>\n",
       "\t<tr><td>Burkina Faso       </td></tr>\n",
       "\t<tr><td>Burundi            </td></tr>\n",
       "\t<tr><td>Cambodia           </td></tr>\n",
       "\t<tr><td>Cameroon           </td></tr>\n",
       "\t<tr><td>Chad               </td></tr>\n",
       "\t<tr><td>China[c]           </td></tr>\n",
       "\t<tr><td>DR Congo           </td></tr>\n",
       "\t<tr><td>Egypt              </td></tr>\n",
       "\t<tr><td>Ethiopia           </td></tr>\n",
       "\t<tr><td>Gabon              </td></tr>\n",
       "\t<tr><td>Gambia             </td></tr>\n",
       "\t<tr><td>Ghana              </td></tr>\n",
       "\t<tr><td>Grenada            </td></tr>\n",
       "\t<tr><td>Guinea             </td></tr>\n",
       "\t<tr><td>Guinea-Bissau      </td></tr>\n",
       "\t<tr><td>Haiti              </td></tr>\n",
       "\t<tr><td>Ivory Coast        </td></tr>\n",
       "\t<tr><td>Japan              </td></tr>\n",
       "\t<tr><td>Kenya              </td></tr>\n",
       "\t<tr><td>Laos               </td></tr>\n",
       "\t<tr><td>Liberia            </td></tr>\n",
       "\t<tr><td>Madagascar         </td></tr>\n",
       "\t<tr><td>Malawi             </td></tr>\n",
       "\t<tr><td>Mali               </td></tr>\n",
       "\t<tr><td>Mauritania         </td></tr>\n",
       "\t<tr><td>Mauritius          </td></tr>\n",
       "\t<tr><td>Mozambique         </td></tr>\n",
       "\t<tr><td>Myanmar            </td></tr>\n",
       "\t<tr><td>New Caledonia      </td></tr>\n",
       "\t<tr><td>Niger              </td></tr>\n",
       "\t<tr><td>Nigeria            </td></tr>\n",
       "\t<tr><td>North Korea        </td></tr>\n",
       "\t<tr><td>Pakistan           </td></tr>\n",
       "\t<tr><td>Papua New Guinea   </td></tr>\n",
       "\t<tr><td>Rwanda             </td></tr>\n",
       "\t<tr><td>Senegal            </td></tr>\n",
       "\t<tr><td>South Korea        </td></tr>\n",
       "\t<tr><td>South Sudan        </td></tr>\n",
       "\t<tr><td>Sri Lanka          </td></tr>\n",
       "\t<tr><td>Sudan              </td></tr>\n",
       "\t<tr><td>Tanzania           </td></tr>\n",
       "\t<tr><td>Thailand           </td></tr>\n",
       "\t<tr><td>Togo               </td></tr>\n",
       "\t<tr><td>Uganda             </td></tr>\n",
       "\t<tr><td>Uzbekistan         </td></tr>\n",
       "\t<tr><td>Venezuela          </td></tr>\n",
       "</tbody>\n",
       "</table>\n"
      ],
      "text/latex": [
       "\\begin{tabular}{r|l}\n",
       " country\\\\\n",
       "\\hline\n",
       "\t Afghanistan        \\\\\n",
       "\t Algeria            \\\\\n",
       "\t Angola             \\\\\n",
       "\t Antigua and Barbuda\\\\\n",
       "\t Bangladesh         \\\\\n",
       "\t Benin              \\\\\n",
       "\t Brunei             \\\\\n",
       "\t Burkina Faso       \\\\\n",
       "\t Burundi            \\\\\n",
       "\t Cambodia           \\\\\n",
       "\t Cameroon           \\\\\n",
       "\t Chad               \\\\\n",
       "\t China{[}c{]}           \\\\\n",
       "\t DR Congo           \\\\\n",
       "\t Egypt              \\\\\n",
       "\t Ethiopia           \\\\\n",
       "\t Gabon              \\\\\n",
       "\t Gambia             \\\\\n",
       "\t Ghana              \\\\\n",
       "\t Grenada            \\\\\n",
       "\t Guinea             \\\\\n",
       "\t Guinea-Bissau      \\\\\n",
       "\t Haiti              \\\\\n",
       "\t Ivory Coast        \\\\\n",
       "\t Japan              \\\\\n",
       "\t Kenya              \\\\\n",
       "\t Laos               \\\\\n",
       "\t Liberia            \\\\\n",
       "\t Madagascar         \\\\\n",
       "\t Malawi             \\\\\n",
       "\t Mali               \\\\\n",
       "\t Mauritania         \\\\\n",
       "\t Mauritius          \\\\\n",
       "\t Mozambique         \\\\\n",
       "\t Myanmar            \\\\\n",
       "\t New Caledonia      \\\\\n",
       "\t Niger              \\\\\n",
       "\t Nigeria            \\\\\n",
       "\t North Korea        \\\\\n",
       "\t Pakistan           \\\\\n",
       "\t Papua New Guinea   \\\\\n",
       "\t Rwanda             \\\\\n",
       "\t Senegal            \\\\\n",
       "\t South Korea        \\\\\n",
       "\t South Sudan        \\\\\n",
       "\t Sri Lanka          \\\\\n",
       "\t Sudan              \\\\\n",
       "\t Tanzania           \\\\\n",
       "\t Thailand           \\\\\n",
       "\t Togo               \\\\\n",
       "\t Uganda             \\\\\n",
       "\t Uzbekistan         \\\\\n",
       "\t Venezuela          \\\\\n",
       "\\end{tabular}\n"
      ],
      "text/markdown": [
       "\n",
       "| country |\n",
       "|---|\n",
       "| Afghanistan         |\n",
       "| Algeria             |\n",
       "| Angola              |\n",
       "| Antigua and Barbuda |\n",
       "| Bangladesh          |\n",
       "| Benin               |\n",
       "| Brunei              |\n",
       "| Burkina Faso        |\n",
       "| Burundi             |\n",
       "| Cambodia            |\n",
       "| Cameroon            |\n",
       "| Chad                |\n",
       "| China[c]            |\n",
       "| DR Congo            |\n",
       "| Egypt               |\n",
       "| Ethiopia            |\n",
       "| Gabon               |\n",
       "| Gambia              |\n",
       "| Ghana               |\n",
       "| Grenada             |\n",
       "| Guinea              |\n",
       "| Guinea-Bissau       |\n",
       "| Haiti               |\n",
       "| Ivory Coast         |\n",
       "| Japan               |\n",
       "| Kenya               |\n",
       "| Laos                |\n",
       "| Liberia             |\n",
       "| Madagascar          |\n",
       "| Malawi              |\n",
       "| Mali                |\n",
       "| Mauritania          |\n",
       "| Mauritius           |\n",
       "| Mozambique          |\n",
       "| Myanmar             |\n",
       "| New Caledonia       |\n",
       "| Niger               |\n",
       "| Nigeria             |\n",
       "| North Korea         |\n",
       "| Pakistan            |\n",
       "| Papua New Guinea    |\n",
       "| Rwanda              |\n",
       "| Senegal             |\n",
       "| South Korea         |\n",
       "| South Sudan         |\n",
       "| Sri Lanka           |\n",
       "| Sudan               |\n",
       "| Tanzania            |\n",
       "| Thailand            |\n",
       "| Togo                |\n",
       "| Uganda              |\n",
       "| Uzbekistan          |\n",
       "| Venezuela           |\n",
       "\n"
      ],
      "text/plain": [
       "   country            \n",
       "1  Afghanistan        \n",
       "2  Algeria            \n",
       "3  Angola             \n",
       "4  Antigua and Barbuda\n",
       "5  Bangladesh         \n",
       "6  Benin              \n",
       "7  Brunei             \n",
       "8  Burkina Faso       \n",
       "9  Burundi            \n",
       "10 Cambodia           \n",
       "11 Cameroon           \n",
       "12 Chad               \n",
       "13 China[c]           \n",
       "14 DR Congo           \n",
       "15 Egypt              \n",
       "16 Ethiopia           \n",
       "17 Gabon              \n",
       "18 Gambia             \n",
       "19 Ghana              \n",
       "20 Grenada            \n",
       "21 Guinea             \n",
       "22 Guinea-Bissau      \n",
       "23 Haiti              \n",
       "24 Ivory Coast        \n",
       "25 Japan              \n",
       "26 Kenya              \n",
       "27 Laos               \n",
       "28 Liberia            \n",
       "29 Madagascar         \n",
       "30 Malawi             \n",
       "31 Mali               \n",
       "32 Mauritania         \n",
       "33 Mauritius          \n",
       "34 Mozambique         \n",
       "35 Myanmar            \n",
       "36 New Caledonia      \n",
       "37 Niger              \n",
       "38 Nigeria            \n",
       "39 North Korea        \n",
       "40 Pakistan           \n",
       "41 Papua New Guinea   \n",
       "42 Rwanda             \n",
       "43 Senegal            \n",
       "44 South Korea        \n",
       "45 South Sudan        \n",
       "46 Sri Lanka          \n",
       "47 Sudan              \n",
       "48 Tanzania           \n",
       "49 Thailand           \n",
       "50 Togo               \n",
       "51 Uganda             \n",
       "52 Uzbekistan         \n",
       "53 Venezuela          "
      ]
     },
     "metadata": {},
     "output_type": "display_data"
    }
   ],
   "source": [
    "#the count of countries confirmed to population ratio rate less than a threshold\n",
    "threshold <- 1\n",
    "count(data %>% filter(confirmed.population.ratio < threshold )%>% \n",
    "select(country))\n",
    "data %>% filter(confirmed.population.ratio < 1 )%>% \n",
    "select(country)"
   ]
  },
  {
   "cell_type": "code",
   "execution_count": 94,
   "id": "5571236b-a3ff-4ca0-a4a9-53caad13e2ba",
   "metadata": {
    "scrolled": true,
    "tags": []
   },
   "outputs": [
    {
     "data": {
      "text/html": [
       "<dl class=dl-horizontal>\n",
       "\t<dt>country</dt>\n",
       "\t\t<dd>'integer'</dd>\n",
       "\t<dt>date</dt>\n",
       "\t\t<dd>'integer'</dd>\n",
       "\t<dt>tested</dt>\n",
       "\t\t<dd>'double'</dd>\n",
       "\t<dt>confirmed</dt>\n",
       "\t\t<dd>'integer'</dd>\n",
       "\t<dt>confirmed.tested.ratio</dt>\n",
       "\t\t<dd>'double'</dd>\n",
       "\t<dt>tested.population.ratio</dt>\n",
       "\t\t<dd>'double'</dd>\n",
       "\t<dt>confirmed.population.ratio</dt>\n",
       "\t\t<dd>'double'</dd>\n",
       "</dl>\n"
      ],
      "text/latex": [
       "\\begin{description*}\n",
       "\\item[country] 'integer'\n",
       "\\item[date] 'integer'\n",
       "\\item[tested] 'double'\n",
       "\\item[confirmed] 'integer'\n",
       "\\item[confirmed.tested.ratio] 'double'\n",
       "\\item[tested.population.ratio] 'double'\n",
       "\\item[confirmed.population.ratio] 'double'\n",
       "\\end{description*}\n"
      ],
      "text/markdown": [
       "country\n",
       ":   'integer'date\n",
       ":   'integer'tested\n",
       ":   'double'confirmed\n",
       ":   'integer'confirmed.tested.ratio\n",
       ":   'double'tested.population.ratio\n",
       ":   'double'confirmed.population.ratio\n",
       ":   'double'\n",
       "\n"
      ],
      "text/plain": [
       "                   country                       date \n",
       "                 \"integer\"                  \"integer\" \n",
       "                    tested                  confirmed \n",
       "                  \"double\"                  \"integer\" \n",
       "    confirmed.tested.ratio    tested.population.ratio \n",
       "                  \"double\"                   \"double\" \n",
       "confirmed.population.ratio \n",
       "                  \"double\" "
      ]
     },
     "metadata": {},
     "output_type": "display_data"
    }
   ],
   "source": [
    "sapply(data,typeof)"
   ]
  },
  {
   "cell_type": "code",
   "execution_count": 127,
   "id": "0f12f965-af44-48ad-aaa3-d02799556a4c",
   "metadata": {},
   "outputs": [
    {
     "ename": "ERROR",
     "evalue": "Error: Column `tested.population.ratio` must be length 1 (a summary value), not 2\n",
     "output_type": "error",
     "traceback": [
      "Error: Column `tested.population.ratio` must be length 1 (a summary value), not 2\nTraceback:\n",
      "1. summarize(filter(data, country == c(\"United Kingdom\", \"United States\")), \n .     tested.population.ratio, tested)",
      "2. summarise.data.frame(filter(data, country == c(\"United Kingdom\", \n .     \"United States\")), tested.population.ratio, tested)",
      "3. as.data.frame(summarise(tbl_df(.data), ...))",
      "4. summarise(tbl_df(.data), ...)",
      "5. summarise.tbl_df(tbl_df(.data), ...)",
      "6. summarise_impl(.data, dots, environment(), caller_env())"
     ]
    }
   ],
   "source": [
    "#to obtain one value or more\n",
    "summarize(filter(data, country == c(\"United Kingdom\",\"United States\"))\n",
    "          ,tested.population.ratio,tested)\n"
   ]
  },
  {
   "cell_type": "code",
   "execution_count": 125,
   "id": "d50e8e6f-89f6-414f-ba77-fcf292fef72c",
   "metadata": {},
   "outputs": [
    {
     "data": {
      "text/html": [
       "<table>\n",
       "<thead><tr><th scope=col>country</th><th scope=col>date</th><th scope=col>tested</th><th scope=col>confirmed</th><th scope=col>confirmed.tested.ratio</th><th scope=col>tested.population.ratio</th><th scope=col>confirmed.population.ratio</th></tr></thead>\n",
       "<tbody>\n",
       "\t<tr><td>United Kingdom</td><td>19 May 2022   </td><td>522526476     </td><td>22232377      </td><td>4.3           </td><td>774           </td><td>32.9          </td></tr>\n",
       "</tbody>\n",
       "</table>\n"
      ],
      "text/latex": [
       "\\begin{tabular}{r|lllllll}\n",
       " country & date & tested & confirmed & confirmed.tested.ratio & tested.population.ratio & confirmed.population.ratio\\\\\n",
       "\\hline\n",
       "\t United Kingdom & 19 May 2022    & 522526476      & 22232377       & 4.3            & 774            & 32.9          \\\\\n",
       "\\end{tabular}\n"
      ],
      "text/markdown": [
       "\n",
       "| country | date | tested | confirmed | confirmed.tested.ratio | tested.population.ratio | confirmed.population.ratio |\n",
       "|---|---|---|---|---|---|---|\n",
       "| United Kingdom | 19 May 2022    | 522526476      | 22232377       | 4.3            | 774            | 32.9           |\n",
       "\n"
      ],
      "text/plain": [
       "  country        date        tested    confirmed confirmed.tested.ratio\n",
       "1 United Kingdom 19 May 2022 522526476 22232377  4.3                   \n",
       "  tested.population.ratio confirmed.population.ratio\n",
       "1 774                     32.9                      "
      ]
     },
     "metadata": {},
     "output_type": "display_data"
    }
   ],
   "source": [
    "#to obtain one raw\n",
    "filter(data, country == \"United Kingdom\")\n",
    "                  "
   ]
  },
  {
   "cell_type": "code",
   "execution_count": 132,
   "id": "f9aacc73-3c65-433b-b20b-0aca399c7c34",
   "metadata": {},
   "outputs": [
    {
     "data": {
      "text/html": [
       "<table>\n",
       "<thead><tr><th scope=col>country</th><th scope=col>date</th><th scope=col>tested</th><th scope=col>confirmed</th><th scope=col>confirmed.tested.ratio</th><th scope=col>tested.population.ratio</th><th scope=col>confirmed.population.ratio</th></tr></thead>\n",
       "<tbody>\n",
       "\t<tr><td>United Kingdom</td><td>19 May 2022   </td><td>522526476     </td><td>22232377      </td><td>4.3           </td><td>774           </td><td>32.9          </td></tr>\n",
       "\t<tr><td>United States </td><td>9 Aug 2021    </td><td>512152348     </td><td>35940893      </td><td>7.0           </td><td>155           </td><td>10.9          </td></tr>\n",
       "</tbody>\n",
       "</table>\n"
      ],
      "text/latex": [
       "\\begin{tabular}{r|lllllll}\n",
       " country & date & tested & confirmed & confirmed.tested.ratio & tested.population.ratio & confirmed.population.ratio\\\\\n",
       "\\hline\n",
       "\t United Kingdom & 19 May 2022    & 522526476      & 22232377       & 4.3            & 774            & 32.9          \\\\\n",
       "\t United States  & 9 Aug 2021     & 512152348      & 35940893       & 7.0            & 155            & 10.9          \\\\\n",
       "\\end{tabular}\n"
      ],
      "text/markdown": [
       "\n",
       "| country | date | tested | confirmed | confirmed.tested.ratio | tested.population.ratio | confirmed.population.ratio |\n",
       "|---|---|---|---|---|---|---|\n",
       "| United Kingdom | 19 May 2022    | 522526476      | 22232377       | 4.3            | 774            | 32.9           |\n",
       "| United States  | 9 Aug 2021     | 512152348      | 35940893       | 7.0            | 155            | 10.9           |\n",
       "\n"
      ],
      "text/plain": [
       "  country        date        tested    confirmed confirmed.tested.ratio\n",
       "1 United Kingdom 19 May 2022 522526476 22232377  4.3                   \n",
       "2 United States  9 Aug 2021  512152348 35940893  7.0                   \n",
       "  tested.population.ratio confirmed.population.ratio\n",
       "1 774                     32.9                      \n",
       "2 155                     10.9                      "
      ]
     },
     "metadata": {},
     "output_type": "display_data"
    }
   ],
   "source": [
    "filter(data, country == c(\"United Kingdom\",\"United States\"))"
   ]
  },
  {
   "cell_type": "code",
   "execution_count": null,
   "id": "9283b05b-622e-4b73-a50f-3a1f793d808d",
   "metadata": {},
   "outputs": [
    {
     "data": {
      "text/html": [
       "<table>\n",
       "<thead><tr><th scope=col>date</th><th scope=col>tested</th></tr></thead>\n",
       "<tbody>\n",
       "\t<tr><td>17 Dec 2020</td><td>154767     </td></tr>\n",
       "\t<tr><td>18 Feb 2021</td><td>428654     </td></tr>\n",
       "</tbody>\n",
       "</table>\n"
      ],
      "text/latex": [
       "\\begin{tabular}{r|ll}\n",
       " date & tested\\\\\n",
       "\\hline\n",
       "\t 17 Dec 2020 & 154767     \\\\\n",
       "\t 18 Feb 2021 & 428654     \\\\\n",
       "\\end{tabular}\n"
      ],
      "text/markdown": [
       "\n",
       "| date | tested |\n",
       "|---|---|\n",
       "| 17 Dec 2020 | 154767      |\n",
       "| 18 Feb 2021 | 428654      |\n",
       "\n"
      ],
      "text/plain": [
       "  date        tested\n",
       "1 17 Dec 2020 154767\n",
       "2 18 Feb 2021 428654"
      ]
     },
     "metadata": {},
     "output_type": "display_data"
    }
   ],
   "source": [
    "slice(data[1:2,2:3])"
   ]
  }
 ],
 "metadata": {
  "kernelspec": {
   "display_name": "R",
   "language": "R",
   "name": "ir"
  },
  "language_info": {
   "codemirror_mode": "r",
   "file_extension": ".r",
   "mimetype": "text/x-r-source",
   "name": "R",
   "pygments_lexer": "r",
   "version": "3.6.1"
  }
 },
 "nbformat": 4,
 "nbformat_minor": 5
}
